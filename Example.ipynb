{
  "nbformat": 4,
  "nbformat_minor": 0,
  "metadata": {
    "colab": {
      "provenance": [],
      "authorship_tag": "ABX9TyO0U2FXzer4GC07JliBSa8i",
      "include_colab_link": true
    },
    "kernelspec": {
      "name": "python3",
      "display_name": "Python 3"
    },
    "language_info": {
      "name": "python"
    }
  },
  "cells": [
    {
      "cell_type": "markdown",
      "metadata": {
        "id": "view-in-github",
        "colab_type": "text"
      },
      "source": [
        "<a href=\"https://colab.research.google.com/github/Pratish89/python_practice/blob/main/Example.ipynb\" target=\"_parent\"><img src=\"https://colab.research.google.com/assets/colab-badge.svg\" alt=\"Open In Colab\"/></a>"
      ]
    },
    {
      "cell_type": "code",
      "execution_count": null,
      "metadata": {
        "colab": {
          "base_uri": "https://localhost:8080/"
        },
        "id": "C6ldJngwGljd",
        "outputId": "6df9d054-4516-4e70-8d5e-3cb43df904b5"
      },
      "outputs": [
        {
          "output_type": "stream",
          "name": "stdout",
          "text": [
            "0.Send email\n",
            "1.Write report\n",
            "2.Attend meeting\n"
          ]
        }
      ],
      "source": [
        "\n",
        "tasks = [\"Send email\", \"Write report\", \"Attend meeting\"]\n",
        "\n",
        "for i,task in enumerate(tasks):\n",
        "  print(f\"{i}.{task}\")\n"
      ]
    },
    {
      "cell_type": "code",
      "source": [
        "grades =[85,90,78,88]\n",
        "\n",
        "for i in range(len(grades)):\n",
        "  if grades[i] <80:\n",
        "    print (f\"grade is below  {grades[i]}\")"
      ],
      "metadata": {
        "colab": {
          "base_uri": "https://localhost:8080/"
        },
        "id": "XvSDFLYXLURf",
        "outputId": "279acd6b-359b-4af9-e1d2-b78b58a2ae9c"
      },
      "execution_count": null,
      "outputs": [
        {
          "output_type": "stream",
          "name": "stdout",
          "text": [
            "grade is below  78\n"
          ]
        }
      ]
    },
    {
      "cell_type": "code",
      "source": [
        "employees = {\"John\": 45, \"Alice\": 32, \"Bob\": 28, \"Diana\": 50}\n",
        "\n",
        "for name,age in employees.items():\n",
        "  if age < 40:\n",
        "    print(f\"{name}, Age:{age}\")"
      ],
      "metadata": {
        "colab": {
          "base_uri": "https://localhost:8080/"
        },
        "id": "jx2Z2IiJPR1f",
        "outputId": "c6a1116e-7954-4fd3-a00e-9dcc1545787e"
      },
      "execution_count": null,
      "outputs": [
        {
          "output_type": "stream",
          "name": "stdout",
          "text": [
            "Alice, Age:32\n",
            "Bob, Age:28\n"
          ]
        }
      ]
    },
    {
      "cell_type": "code",
      "source": [
        "orders = [\n",
        "    {\"order_id\": 101, \"product\": \"Laptop\", \"price\": 1200},\n",
        "    {\"order_id\": 102, \"product\": \"Headphones\", \"price\": 200},\n",
        "    {\"order_id\": 103, \"product\": \"Mouse\", \"price\": 25},\n",
        "]\n",
        "\n",
        "for order in orders:\n",
        "  if order['price'] > 100:\n",
        "    print(f\"The order: {order['order_id']} and Product is: {order['product']}\")\n",
        "\n",
        "\n",
        "\n",
        "\n"
      ],
      "metadata": {
        "colab": {
          "base_uri": "https://localhost:8080/"
        },
        "id": "wr3_tqIAQiQA",
        "outputId": "36564cc9-3bbd-4cf4-c236-bff84ac6d61d"
      },
      "execution_count": null,
      "outputs": [
        {
          "output_type": "stream",
          "name": "stdout",
          "text": [
            "The order: 101 and Product is: Laptop\n",
            "The order: 102 and Product is: Headphones\n"
          ]
        }
      ]
    },
    {
      "cell_type": "code",
      "source": [
        "\n",
        "number = 5\n",
        "\n",
        "for i in range(1,11):\n",
        "   print(f\" {number} x {i}={number * i}\")\n",
        "\n"
      ],
      "metadata": {
        "colab": {
          "base_uri": "https://localhost:8080/"
        },
        "id": "l7jopwtlTfRr",
        "outputId": "b09d482a-7e6b-4861-9531-a5492509747f"
      },
      "execution_count": null,
      "outputs": [
        {
          "output_type": "stream",
          "name": "stdout",
          "text": [
            " 5 x 1=5\n",
            " 5 x 2=10\n",
            " 5 x 3=15\n",
            " 5 x 4=20\n",
            " 5 x 5=25\n",
            " 5 x 6=30\n",
            " 5 x 7=35\n",
            " 5 x 8=40\n",
            " 5 x 9=45\n",
            " 5 x 10=50\n"
          ]
        }
      ]
    },
    {
      "cell_type": "code",
      "source": [
        "# Question:\n",
        "\n",
        "# You are given sales data for different regions in a nested list. Write a program to calculate and display the total sales for each region.\n",
        "\n",
        "sales = [\n",
        "    [\"North\", 1500, 2000, 1800],\n",
        "    [\"South\", 1200, 1400, 1600],\n",
        "    [\"East\", 1000, 1100, 1050],\n",
        "]\n",
        "\n",
        "for sale in sales:\n",
        "  region= sale[0]\n",
        "  total_sales = sum(sale[1:])\n",
        "  print(f\"Region:{region} --> Total Sales:${total_sales}\")\n",
        "\n",
        "\n",
        "\n",
        "\n"
      ],
      "metadata": {
        "colab": {
          "base_uri": "https://localhost:8080/"
        },
        "id": "5B0wNPQnUkVO",
        "outputId": "ce9ec1b7-ff4f-49ab-ba9a-9842f50cc9b1"
      },
      "execution_count": null,
      "outputs": [
        {
          "output_type": "stream",
          "name": "stdout",
          "text": [
            "Region:North --> Total Sales:$5300\n",
            "Region:South --> Total Sales:$4200\n",
            "Region:East --> Total Sales:$3150\n"
          ]
        }
      ]
    },
    {
      "cell_type": "code",
      "source": [
        "# Question:\n",
        "\n",
        "# Simulate a pagination system that divides a list of items into pages with a fixed page size. Write a program that displays the items for each page.\n",
        "\n",
        "\n",
        "\n",
        "\n",
        "items = [\"Item1\", \"Item2\", \"Item3\", \"Item4\", \"Item5\", \"Item6\"]\n",
        "page_size = 3\n",
        "\n",
        "for page in range(0,len(items),page_size):\n",
        "  print (f\"Page {page //page_size +1 }: {items[page: page + page_size]}\")\n",
        "\n",
        "\n",
        "\n",
        "\n"
      ],
      "metadata": {
        "colab": {
          "base_uri": "https://localhost:8080/"
        },
        "id": "3lJ4RBLbW0nf",
        "outputId": "9bab2f6f-b429-4c19-e540-01ec5f37d073"
      },
      "execution_count": null,
      "outputs": [
        {
          "output_type": "stream",
          "name": "stdout",
          "text": [
            "Page 1: ['Item1', 'Item2', 'Item3']\n",
            "Page 2: ['Item4', 'Item5', 'Item6']\n"
          ]
        }
      ]
    },
    {
      "cell_type": "code",
      "source": [
        "# Question:\n",
        "\n",
        "# Write a program to find duplicates in a list and print them.\n",
        "\n",
        "products = [\"Laptop\", \"Mouse\", \"Laptop\", \"Keyboard\", \"Mouse\"]\n",
        "seen = set()\n",
        "duplicate_item =[]\n",
        "\n",
        "for product in products:\n",
        "  if product in seen:\n",
        "    duplicate_item.append(product)\n",
        "  else:\n",
        "    seen.add(product)\n",
        "print(duplicate_item)\n"
      ],
      "metadata": {
        "colab": {
          "base_uri": "https://localhost:8080/"
        },
        "id": "aord_D6_cCWa",
        "outputId": "e7fe887a-2153-43b2-fb43-20c611e59ea0"
      },
      "execution_count": null,
      "outputs": [
        {
          "output_type": "stream",
          "name": "stdout",
          "text": [
            "['Laptop', 'Mouse']\n"
          ]
        }
      ]
    },
    {
      "cell_type": "code",
      "source": [
        "# Question:\n",
        "\n",
        "# Simulate reading a file line by line and display the line number and content. Use enumerate.\n",
        "\n",
        "lines = [\"Alice,25,Female\", \"Bob,30,Male\", \"Charlie,22,Male\"]\n",
        "\n",
        "for line_no, line in enumerate(lines, start=1):\n",
        "    print(f\"Line {line_no}: {line}\")\n"
      ],
      "metadata": {
        "colab": {
          "base_uri": "https://localhost:8080/"
        },
        "id": "HqVpwjfKgjjx",
        "outputId": "41c489c1-9e7c-4a4f-953f-c628309eaf74"
      },
      "execution_count": null,
      "outputs": [
        {
          "output_type": "stream",
          "name": "stdout",
          "text": [
            "Line 1: Alice,25,Female\n",
            "Line 2: Bob,30,Male\n",
            "Line 3: Charlie,22,Male\n"
          ]
        }
      ]
    },
    {
      "cell_type": "code",
      "source": [],
      "metadata": {
        "id": "PfPkQS05jD1D"
      },
      "execution_count": null,
      "outputs": []
    },
    {
      "cell_type": "code",
      "source": [
        "# Question:\n",
        "\n",
        "# You have a list of participants. Write a program to randomly pick two winners.\n",
        "\n",
        "import random\n",
        "\n",
        "participants = [\"Alice\", \"Bob\", \"Charlie\", \"Diana\", \"Eve\"]\n",
        "\n",
        "winners = random.sample(participants,2)\n",
        "\n",
        "print(f\"winners: {winners}\")"
      ],
      "metadata": {
        "colab": {
          "base_uri": "https://localhost:8080/"
        },
        "id": "-BEN1V2oiJc9",
        "outputId": "780ca87c-a4ff-45c3-8f31-c5aa5d3372e1"
      },
      "execution_count": null,
      "outputs": [
        {
          "output_type": "stream",
          "name": "stdout",
          "text": [
            "winners: ['Eve', 'Diana']\n"
          ]
        }
      ]
    },
    {
      "cell_type": "code",
      "source": [
        "# Question:\n",
        "\n",
        "# Sort a list of employees by their age and print the sorted list.\n",
        "\n",
        "employees = [\n",
        "    {\"name\": \"Alice\", \"age\": 25},\n",
        "    {\"name\": \"Bob\", \"age\": 30},\n",
        "    {\"name\": \"Charlie\", \"age\": 22},\n",
        "]\n",
        "\n",
        "sorted_emplouess = sorted(employees,key=lambda x: x['age'])\n",
        "\n",
        "for employee in sorted_emplouess:\n",
        "      print(f\"{employee['name']}, Age: {employee['age']}\")\n",
        "\n",
        "\n",
        "\n",
        "\n",
        "\n"
      ],
      "metadata": {
        "colab": {
          "base_uri": "https://localhost:8080/"
        },
        "id": "Ca6aeZM4jfgW",
        "outputId": "74304d1b-4d84-4452-8133-77cbab9fc302"
      },
      "execution_count": null,
      "outputs": [
        {
          "output_type": "stream",
          "name": "stdout",
          "text": [
            "Charlie, Age: 22\n",
            "Alice, Age: 25\n",
            "Bob, Age: 30\n"
          ]
        }
      ]
    },
    {
      "cell_type": "code",
      "source": [
        "# Question:\n",
        "\n",
        "# Find common students in two classes using sets.\n",
        "\n",
        "class_a = [\"Alice\", \"Bob\", \"Charlie\", \"Diana\"]\n",
        "class_b = [\"Charlie\", \"Eve\", \"Alice\", \"Frank\"]\n",
        "\n",
        "common_students = set(class_a) & set(class_b)\n",
        "\n",
        "print(f\"Common Students: {common_students}\")\n",
        "\n",
        "\n"
      ],
      "metadata": {
        "colab": {
          "base_uri": "https://localhost:8080/"
        },
        "id": "uVK_Itw4krPP",
        "outputId": "d7c77f66-cdcd-48c9-95af-aeef14e401be"
      },
      "execution_count": null,
      "outputs": [
        {
          "output_type": "stream",
          "name": "stdout",
          "text": [
            "Common Students: {'Alice', 'Charlie'}\n"
          ]
        }
      ]
    },
    {
      "cell_type": "code",
      "source": [
        "# Question:\n",
        "\n",
        "# Write a program to restock items in an inventory if their quantity is below a threshold.\n",
        "\n",
        "inventory = {\n",
        "    \"Apples\": 5,\n",
        "    \"Bananas\": 2,\n",
        "    \"Oranges\": 8,\n",
        "}\n",
        "\n",
        "threshold = 3\n",
        "restock_amount = 10\n",
        "\n",
        "\n",
        "for item,qty in inventory.items():\n",
        "  if qty < threshold:\n",
        "    print(f\"{item} is below the threshold. Restocking to {restock_amount}.\")\n",
        "    inventory[item]=restock_amount\n",
        "print(\"Updated Inventory:\", inventory)\n",
        "\n"
      ],
      "metadata": {
        "colab": {
          "base_uri": "https://localhost:8080/"
        },
        "id": "CJbmIXVAoTY5",
        "outputId": "667edc0e-be1f-4c6f-93c2-27b90ef693a8"
      },
      "execution_count": 77,
      "outputs": [
        {
          "output_type": "stream",
          "name": "stdout",
          "text": [
            "Bananas is below the threshold. Restocking to 10.\n",
            "Updated Inventory: {'Apples': 5, 'Bananas': 10, 'Oranges': 8}\n"
          ]
        }
      ]
    },
    {
      "cell_type": "code",
      "source": [
        "# Question:\n",
        "\n",
        "# Find the product with the highest price from a list of products.\n",
        "\n",
        "products = [\n",
        "    {\"name\": \"Laptop\", \"price\": 1000},\n",
        "    {\"name\": \"Phone\", \"price\": 500},\n",
        "    {\"name\": \"Tablet\", \"price\": 750},\n",
        "]\n",
        "most_expensive = max(products, key=lambda x: x[\"price\"])\n",
        "\n",
        "print(f\"The most expensive product is {most_expensive['name']} costing ${most_expensive['price']}.\")\n",
        "\n",
        "\n",
        "\n",
        "\n",
        "\n"
      ],
      "metadata": {
        "colab": {
          "base_uri": "https://localhost:8080/"
        },
        "id": "GhrMJAlfr5jj",
        "outputId": "756e8e73-f3ae-461e-a900-87041d5050d7"
      },
      "execution_count": 94,
      "outputs": [
        {
          "output_type": "stream",
          "name": "stdout",
          "text": [
            "The most expensive product is Laptop costing $1000.\n"
          ]
        }
      ]
    },
    {
      "cell_type": "code",
      "source": [
        "# Question:\n",
        "\n",
        "# Find the product with the highest price from a list of products.\n",
        "\n",
        "products = [\n",
        "    {\"name\": \"Laptop\", \"price\": 1000},\n",
        "    {\"name\": \"Phone\", \"price\": 500},\n",
        "    {\"name\": \"Tablet\", \"price\": 750},\n",
        "]\n",
        "\n",
        "# Find the product with the highest price using a loop\n",
        "most_expensive = None\n",
        "highest_price = 0\n",
        "\n",
        "for product in products:\n",
        "    if product[\"price\"] > highest_price:\n",
        "        most_expensive = product\n",
        "        highest_price = product[\"price\"]\n",
        "\n",
        "print(f\"The most expensive product is {most_expensive['name']} costing ${most_expensive['price']}.\")\n",
        "print(most_expensive)\n",
        "\n"
      ],
      "metadata": {
        "colab": {
          "base_uri": "https://localhost:8080/"
        },
        "id": "x50XH_Blvkf-",
        "outputId": "02cedd46-ad62-4415-bf2a-6345af6d8b5b"
      },
      "execution_count": 100,
      "outputs": [
        {
          "output_type": "stream",
          "name": "stdout",
          "text": [
            "The most expensive product is Laptop costing $1000.\n",
            "{'name': 'Laptop', 'price': 1000}\n"
          ]
        }
      ]
    },
    {
      "cell_type": "code",
      "source": [
        "# Question:\n",
        "\n",
        "# Pair students with their scores using zip.\n",
        "\n",
        "\n",
        "students = [\"Alice\", \"Bob\", \"Charlie\"]\n",
        "scores = [85, 90, 78]\n",
        "\n",
        "for students,scores in zip(students,scores):\n",
        "  print(f\"{students}:{scores}\")"
      ],
      "metadata": {
        "colab": {
          "base_uri": "https://localhost:8080/"
        },
        "id": "amyHErsg9UfR",
        "outputId": "e6a06de4-742d-485e-a82e-7fa2ccb113eb"
      },
      "execution_count": 101,
      "outputs": [
        {
          "output_type": "stream",
          "name": "stdout",
          "text": [
            "Alice:85\n",
            "Bob:90\n",
            "Charlie:78\n"
          ]
        }
      ]
    },
    {
      "cell_type": "markdown",
      "source": [],
      "metadata": {
        "id": "YJLW4WYIXTUs"
      }
    }
  ]
}