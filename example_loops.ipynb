{
  "nbformat": 4,
  "nbformat_minor": 0,
  "metadata": {
    "colab": {
      "provenance": [],
      "authorship_tag": "ABX9TyOR51ydUlrSQpDdT4ZqPeZ0",
      "include_colab_link": true
    },
    "kernelspec": {
      "name": "python3",
      "display_name": "Python 3"
    },
    "language_info": {
      "name": "python"
    }
  },
  "cells": [
    {
      "cell_type": "markdown",
      "metadata": {
        "id": "view-in-github",
        "colab_type": "text"
      },
      "source": [
        "<a href=\"https://colab.research.google.com/github/Pratish89/python_practice/blob/main/example_loops.ipynb\" target=\"_parent\"><img src=\"https://colab.research.google.com/assets/colab-badge.svg\" alt=\"Open In Colab\"/></a>"
      ]
    },
    {
      "cell_type": "code",
      "source": [
        "person = {\n",
        "    'first_name': 'Asabeneh',\n",
        "    'last_name': 'Yetayeh',\n",
        "    'age': 250,\n",
        "    'country': 'Finland',\n",
        "    'is_marred': True,\n",
        "    'skills': ['JavaScript', 'React', 'Node', 'MongoDB', 'Python'],\n",
        "    'address': {\n",
        "        'street': 'Space street',\n",
        "        'zipcode': '02210'\n",
        "    }\n",
        "}\n",
        "\n",
        "\n",
        "for key in person:\n",
        "  if key == 'skills':\n",
        "    for skills in person['skills']:\n",
        "      print(skills)\n"
      ],
      "metadata": {
        "colab": {
          "base_uri": "https://localhost:8080/"
        },
        "id": "xQ2IABQ3Owb4",
        "outputId": "457837c9-633d-48ce-b754-39e1a01922fa"
      },
      "execution_count": 2,
      "outputs": [
        {
          "output_type": "stream",
          "name": "stdout",
          "text": [
            "JavaScript\n",
            "React\n",
            "Node\n",
            "MongoDB\n",
            "Python\n"
          ]
        }
      ]
    }
  ]
}